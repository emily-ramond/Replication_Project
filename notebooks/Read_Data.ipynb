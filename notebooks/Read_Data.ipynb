{
 "cells": [
  {
   "cell_type": "code",
   "execution_count": 1,
   "metadata": {},
   "outputs": [
    {
     "name": "stdout",
     "output_type": "stream",
     "text": [
      "Collecting netCDF4\n",
      "  Downloading netCDF4-1.5.7-cp37-cp37m-macosx_10_9_x86_64.whl (4.0 MB)\n",
      "\u001b[K     |████████████████████████████████| 4.0 MB 304 kB/s eta 0:00:01     |██████████████████████████▉     | 3.3 MB 412 kB/s eta 0:00:02\n",
      "\u001b[?25hRequirement already satisfied: numpy>=1.9 in /Users/emilyramond/anaconda3/lib/python3.7/site-packages (from netCDF4) (1.19.2)\n",
      "Collecting cftime\n",
      "  Downloading cftime-1.5.1-cp37-cp37m-macosx_10_9_x86_64.whl (208 kB)\n",
      "\u001b[K     |████████████████████████████████| 208 kB 372 kB/s eta 0:00:01\n",
      "\u001b[?25hInstalling collected packages: cftime, netCDF4\n",
      "Successfully installed cftime-1.5.1 netCDF4-1.5.7\n",
      "Note: you may need to restart the kernel to use updated packages.\n"
     ]
    }
   ],
   "source": [
    "pip install netCDF4"
   ]
  },
  {
   "cell_type": "code",
   "execution_count": 2,
   "metadata": {},
   "outputs": [],
   "source": [
    "import netCDF4\n",
    "import numpy as np"
   ]
  },
  {
   "cell_type": "code",
   "execution_count": 3,
   "metadata": {},
   "outputs": [
    {
     "name": "stdout",
     "output_type": "stream",
     "text": [
      "<class 'netCDF4._netCDF4.Dataset'>\n",
      "root group (NETCDF4_CLASSIC data model, file format HDF5):\n",
      "    Conventions: COARDS\n",
      "    title: mean daily NMC Reanalysis (1948)\n",
      "    description: Data is from NMC initialized reanalysis\n",
      "(4x/day).  It consists of most variables interpolated to\n",
      "pressure surfaces from model (sigma) surfaces.\n",
      "    platform: Model\n",
      "    history: created 99/05/11 by Hoop (netCDF2.3)\n",
      "Converted to chunked, deflated non-packed NetCDF4 2014/09\n",
      "    dataset_title: NCEP-NCAR Reanalysis 1\n",
      "    References: http://www.psl.noaa.gov/data/gridded/data.ncep.reanalysis.html\n",
      "    dimensions(sizes): lon(144), lat(73), level(17), time(366)\n",
      "    variables(dimensions): float32 level(level), float32 lat(lat), float32 lon(lon), float64 time(time), float32 hgt(time, level, lat, lon)\n",
      "    groups: \n"
     ]
    }
   ],
   "source": [
    "#reads the file \n",
    "f = netCDF4.Dataset('hgt.1948[1].nc')\n",
    "print(f)"
   ]
  },
  {
   "cell_type": "code",
   "execution_count": 4,
   "metadata": {},
   "outputs": [
    {
     "name": "stdout",
     "output_type": "stream",
     "text": [
      "dict_keys(['level', 'lat', 'lon', 'time', 'hgt'])\n"
     ]
    }
   ],
   "source": [
    "#get the variable names\n",
    "print(f.variables.keys())"
   ]
  },
  {
   "cell_type": "code",
   "execution_count": 6,
   "metadata": {},
   "outputs": [
    {
     "name": "stdout",
     "output_type": "stream",
     "text": [
      "<class 'netCDF4._netCDF4.Variable'>\n",
      "float32 hgt(time, level, lat, lon)\n",
      "    long_name: mean Daily Geopotential height\n",
      "    units: m\n",
      "    precision: 0\n",
      "    least_significant_digit: 0\n",
      "    GRIB_id: 7\n",
      "    GRIB_name: HGT\n",
      "    var_desc: Geopotential height\n",
      "    dataset: NCEP Reanalysis Daily Averages\n",
      "    level_desc: Multiple levels\n",
      "    statistic: Mean\n",
      "    parent_stat: Individual Obs\n",
      "    missing_value: -9.96921e+36\n",
      "    actual_range: [ -470. 32092.]\n",
      "    valid_range: [ -700. 35000.]\n",
      "unlimited dimensions: time\n",
      "current shape = (366, 17, 73, 144)\n",
      "filling on, default _FillValue of 9.969209968386869e+36 used\n"
     ]
    }
   ],
   "source": [
    "hgt = f.variables['hgt'] # hgt variable\n",
    "print(hgt)"
   ]
  },
  {
   "cell_type": "code",
   "execution_count": null,
   "metadata": {},
   "outputs": [],
   "source": []
  }
 ],
 "metadata": {
  "kernelspec": {
   "display_name": "Python 3",
   "language": "python",
   "name": "python3"
  },
  "language_info": {
   "codemirror_mode": {
    "name": "ipython",
    "version": 3
   },
   "file_extension": ".py",
   "mimetype": "text/x-python",
   "name": "python",
   "nbconvert_exporter": "python",
   "pygments_lexer": "ipython3",
   "version": "3.7.3"
  }
 },
 "nbformat": 4,
 "nbformat_minor": 4
}
